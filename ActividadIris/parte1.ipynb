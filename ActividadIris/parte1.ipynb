{
 "cells": [
  {
   "cell_type": "code",
   "execution_count": 152,
   "metadata": {},
   "outputs": [],
   "source": [
    "import numpy as np\n",
    "import pandas as pd\n",
    "import matplotlib.pyplot as plt\n",
    "import seaborn as sns\n",
    "\n",
    "nombre_variables = ['longitud_sepalo','ancho_sepalo','longitud_petalo','ancho_petalo','clase']\n",
    "irisData = pd.read_csv(\"iris.data\",names=nombre_variables)\n",
    "X = np.array(irisData['longitud_sepalo'])\n",
    "Y = np.array(irisData['ancho_sepalo'])\n",
    "W = np.array(irisData['longitud_petalo'])\n",
    "Z = np.array(irisData['ancho_petalo'])\n",
    "\n",
    "minX = X.min()\n",
    "minY = Y.min()\n",
    "minW = W.min()\n",
    "minZ = Z.min()\n",
    "maxX = X.max()\n",
    "maxY = Y.max()\n",
    "maxW = W.max()\n",
    "maxZ = Z.max()\n",
    "\n",
    "mediaX = X.mean()\n",
    "mediaY = Y.mean()\n",
    "mediaW = W.mean()\n",
    "mediaZ = Z.mean()"
   ]
  },
  {
   "cell_type": "code",
   "execution_count": 153,
   "metadata": {},
   "outputs": [
    {
     "data": {
      "image/png": "[encoded data removed]",
      "text/plain": [
       "<Figure size 432x288 with 1 Axes>"
      ]
     },
     "metadata": {
      "needs_background": "light"
     },
     "output_type": "display_data"
    }
   ],
   "source": [
    "datosMin = np.array([minX,minY,minW,minZ])\n",
    "ax = sns.barplot(x=datosMin,y=datosMin,data=irisData)"
   ]
  },
  {
   "cell_type": "code",
   "execution_count": 154,
   "metadata": {},
   "outputs": [
    {
     "data": {
      "image/png": "[encoded data removed]",
      "text/plain": [
       "<Figure size 432x288 with 1 Axes>"
      ]
     },
     "metadata": {
      "needs_background": "light"
     },
     "output_type": "display_data"
    }
   ],
   "source": [
    "datosMax = np.array([maxX,maxY,maxW,maxZ])\n",
    "ay = sns.barplot(x=datosMax,y=datosMax,data=irisData)"
   ]
  },
  {
   "cell_type": "code",
   "execution_count": 157,
   "metadata": {},
   "outputs": [
    {
     "data": {
      "image/png": "[encoded data removed]",
      "text/plain": [
       "<Figure size 432x288 with 1 Axes>"
      ]
     },
     "metadata": {
      "needs_background": "light"
     },
     "output_type": "display_data"
    }
   ],
   "source": [
    "media = np.array([mediaX,mediaY,mediaW,mediaZ])\n",
    "aw = sns.barplot(x=media,y=media,data=irisData)"
   ]
  },
  {
   "cell_type": "code",
   "execution_count": null,
   "metadata": {},
   "outputs": [],
   "source": []
  }
 ],
 "metadata": {
  "kernelspec": {
   "display_name": "Python 3",
   "language": "python",
   "name": "python3"
  },
  "language_info": {
   "codemirror_mode": {
    "name": "ipython",
    "version": 3
   },
   "file_extension": ".py",
   "mimetype": "text/x-python",
   "name": "python",
   "nbconvert_exporter": "python",
   "pygments_lexer": "ipython3",
   "version": "3.7.6"
  }
 },
 "nbformat": 4,
 "nbformat_minor": 2
}

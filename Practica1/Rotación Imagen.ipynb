{
 "cells": [
  {
   "cell_type": "code",
   "execution_count": 2,
   "metadata": {},
   "outputs": [],
   "source": [
    "from PIL import Image\n",
    "image = Image.open('.//Imagenes//lena_color_512.tif')\n",
    "\n",
    "image_rot_45 = image.rotate(45)\n",
    "image_rot_45.save('image_rot_45.png')\n",
    "\n",
    "image_rot_90 = image.rotate(90)\n",
    "image_rot_90.save('image_rot_90.png')\n",
    "\n",
    "image_rot_180 = image.rotate(180)\n",
    "image_rot_180.save('image_rot_180.png')"
   ]
  },
  {
   "cell_type": "code",
   "execution_count": null,
   "metadata": {},
   "outputs": [],
   "source": []
  }
 ],
 "metadata": {
  "kernelspec": {
   "display_name": "Python 3",
   "language": "python",
   "name": "python3"
  },
  "language_info": {
   "codemirror_mode": {
    "name": "ipython",
    "version": 3
   },
   "file_extension": ".py",
   "mimetype": "text/x-python",
   "name": "python",
   "nbconvert_exporter": "python",
   "pygments_lexer": "ipython3",
   "version": "3.7.6"
  }
 },
 "nbformat": 4,
 "nbformat_minor": 4
}

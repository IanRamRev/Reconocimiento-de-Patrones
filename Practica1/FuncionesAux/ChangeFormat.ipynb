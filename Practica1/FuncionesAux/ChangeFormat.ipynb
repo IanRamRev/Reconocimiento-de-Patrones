{
 "cells": [
  {
   "cell_type": "code",
   "execution_count": 1,
   "metadata": {},
   "outputs": [],
   "source": [
    "# path -> Ruta de la imágen\n",
    "# library -> Libreria con que se abrá la imágen\n",
    "    # 1. OpenCV\n",
    "    # 2. skImage\n",
    "def openImage(path, library):\n",
    "    if(library == 1):\n",
    "        img = cv2.imread(path)\n",
    "        return img\n",
    "    if (library == 2):\n",
    "        img = io.imread(path)\n",
    "        return img_sk\n",
    "    \n",
    "\n",
    "# img -> Objeto tipo imágen\n",
    "# channelType -> Elige el tipo de color a convertir\n",
    "    # 1. BGR a RGB\n",
    "    # 2. RGB a escala de grises\n",
    "    # 3. BGR a YUV\n",
    "    # 4. BGR a HSV\n",
    "def convertChannelOpenCV(img, channelType):\n",
    "    if(channelType == 1): #BGR to RGB\n",
    "        imgRGB = cv2.cvtColor(img, cv2.COLOR_BGR2RGB)\n",
    "        return imgRGB\n",
    "    if(channelType == 2): #RGB to GRAY\n",
    "        img_gray = cv2.cvtColor(img, cv2.COLOR_RGB2GRAY)\n",
    "        return img_gray\n",
    "    if(channelType == 3): #RGB to YUV\n",
    "        img_yuv = cv2.cvtColor(img, cv2.COLOR_BGR2YUV)\n",
    "        return img_yuv\n",
    "    if(channelType == 4): #RGB to HSV\n",
    "        img_hsv = cv2.cvtColor(img, cv2.COLOR_BGR2HSV)\n",
    "        return img_hsv\n",
    "    \n",
    "# img -> Objeto tipo imágen\n",
    "# channelType -> Elige el tipo de color a convertir\n",
    "    # 1. RGB a RGB\n",
    "    # 2. RGB a escala de grises\n",
    "    # 3. BGR a YUV\n",
    "    # 4. BGR a HSV\n",
    "def convertChannelskImage(img, channelType):\n",
    "    if(channelType == 1):\n",
    "        return img\n",
    "    if(channelType == 2):\n",
    "        from skimage.color import rgb2grey\n",
    "        gray_img = rgb2grey(img)\n",
    "        return gray_img\n",
    "    if(channelType == 3):\n",
    "        from skimage.color import rgb2yuv\n",
    "        yuv_img = rgb2yuv(img)\n",
    "        return yuv_img\n",
    "    if(channelType == 4): #RGB a HSV\n",
    "        from skimage.color import rgb2hsv\n",
    "        hsv_img = rgb2hsv(img)\n",
    "        return hsv_img\n"
   ]
  },
  {
   "cell_type": "code",
   "execution_count": null,
   "metadata": {},
   "outputs": [],
   "source": []
  }
 ],
 "metadata": {
  "kernelspec": {
   "display_name": "Python 3",
   "language": "python",
   "name": "python3"
  },
  "language_info": {
   "codemirror_mode": {
    "name": "ipython",
    "version": 3
   },
   "file_extension": ".py",
   "mimetype": "text/x-python",
   "name": "python",
   "nbconvert_exporter": "python",
   "pygments_lexer": "ipython3",
   "version": "3.7.6"
  }
 },
 "nbformat": 4,
 "nbformat_minor": 4
}
